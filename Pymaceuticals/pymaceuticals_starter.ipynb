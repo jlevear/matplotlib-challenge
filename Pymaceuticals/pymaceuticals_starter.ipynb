{
 "cells": [
  {
   "cell_type": "markdown",
   "metadata": {},
   "source": [
    "## Observations and Insights "
   ]
  },
  {
   "cell_type": "markdown",
   "metadata": {},
   "source": []
  },
  {
   "cell_type": "code",
   "execution_count": 1,
   "metadata": {},
   "outputs": [
    {
     "data": {
      "text/html": [
       "<div>\n",
       "<style scoped>\n",
       "    .dataframe tbody tr th:only-of-type {\n",
       "        vertical-align: middle;\n",
       "    }\n",
       "\n",
       "    .dataframe tbody tr th {\n",
       "        vertical-align: top;\n",
       "    }\n",
       "\n",
       "    .dataframe thead th {\n",
       "        text-align: right;\n",
       "    }\n",
       "</style>\n",
       "<table border=\"1\" class=\"dataframe\">\n",
       "  <thead>\n",
       "    <tr style=\"text-align: right;\">\n",
       "      <th></th>\n",
       "      <th>Mouse ID</th>\n",
       "      <th>Timepoint</th>\n",
       "      <th>Tumor Volume (mm3)</th>\n",
       "      <th>Metastatic Sites</th>\n",
       "      <th>Drug Regimen</th>\n",
       "      <th>Sex</th>\n",
       "      <th>Age_months</th>\n",
       "      <th>Weight (g)</th>\n",
       "    </tr>\n",
       "  </thead>\n",
       "  <tbody>\n",
       "    <tr>\n",
       "      <th>0</th>\n",
       "      <td>b128</td>\n",
       "      <td>0</td>\n",
       "      <td>45.000000</td>\n",
       "      <td>0</td>\n",
       "      <td>Capomulin</td>\n",
       "      <td>Female</td>\n",
       "      <td>9</td>\n",
       "      <td>22</td>\n",
       "    </tr>\n",
       "    <tr>\n",
       "      <th>1</th>\n",
       "      <td>b128</td>\n",
       "      <td>5</td>\n",
       "      <td>45.651331</td>\n",
       "      <td>0</td>\n",
       "      <td>Capomulin</td>\n",
       "      <td>Female</td>\n",
       "      <td>9</td>\n",
       "      <td>22</td>\n",
       "    </tr>\n",
       "    <tr>\n",
       "      <th>2</th>\n",
       "      <td>b128</td>\n",
       "      <td>10</td>\n",
       "      <td>43.270852</td>\n",
       "      <td>0</td>\n",
       "      <td>Capomulin</td>\n",
       "      <td>Female</td>\n",
       "      <td>9</td>\n",
       "      <td>22</td>\n",
       "    </tr>\n",
       "    <tr>\n",
       "      <th>3</th>\n",
       "      <td>b128</td>\n",
       "      <td>15</td>\n",
       "      <td>43.784893</td>\n",
       "      <td>0</td>\n",
       "      <td>Capomulin</td>\n",
       "      <td>Female</td>\n",
       "      <td>9</td>\n",
       "      <td>22</td>\n",
       "    </tr>\n",
       "    <tr>\n",
       "      <th>4</th>\n",
       "      <td>b128</td>\n",
       "      <td>20</td>\n",
       "      <td>42.731552</td>\n",
       "      <td>0</td>\n",
       "      <td>Capomulin</td>\n",
       "      <td>Female</td>\n",
       "      <td>9</td>\n",
       "      <td>22</td>\n",
       "    </tr>\n",
       "    <tr>\n",
       "      <th>...</th>\n",
       "      <td>...</td>\n",
       "      <td>...</td>\n",
       "      <td>...</td>\n",
       "      <td>...</td>\n",
       "      <td>...</td>\n",
       "      <td>...</td>\n",
       "      <td>...</td>\n",
       "      <td>...</td>\n",
       "    </tr>\n",
       "    <tr>\n",
       "      <th>1888</th>\n",
       "      <td>m601</td>\n",
       "      <td>25</td>\n",
       "      <td>33.118756</td>\n",
       "      <td>1</td>\n",
       "      <td>Capomulin</td>\n",
       "      <td>Male</td>\n",
       "      <td>22</td>\n",
       "      <td>17</td>\n",
       "    </tr>\n",
       "    <tr>\n",
       "      <th>1889</th>\n",
       "      <td>m601</td>\n",
       "      <td>30</td>\n",
       "      <td>31.758275</td>\n",
       "      <td>1</td>\n",
       "      <td>Capomulin</td>\n",
       "      <td>Male</td>\n",
       "      <td>22</td>\n",
       "      <td>17</td>\n",
       "    </tr>\n",
       "    <tr>\n",
       "      <th>1890</th>\n",
       "      <td>m601</td>\n",
       "      <td>35</td>\n",
       "      <td>30.834357</td>\n",
       "      <td>1</td>\n",
       "      <td>Capomulin</td>\n",
       "      <td>Male</td>\n",
       "      <td>22</td>\n",
       "      <td>17</td>\n",
       "    </tr>\n",
       "    <tr>\n",
       "      <th>1891</th>\n",
       "      <td>m601</td>\n",
       "      <td>40</td>\n",
       "      <td>31.378045</td>\n",
       "      <td>1</td>\n",
       "      <td>Capomulin</td>\n",
       "      <td>Male</td>\n",
       "      <td>22</td>\n",
       "      <td>17</td>\n",
       "    </tr>\n",
       "    <tr>\n",
       "      <th>1892</th>\n",
       "      <td>m601</td>\n",
       "      <td>45</td>\n",
       "      <td>28.430964</td>\n",
       "      <td>1</td>\n",
       "      <td>Capomulin</td>\n",
       "      <td>Male</td>\n",
       "      <td>22</td>\n",
       "      <td>17</td>\n",
       "    </tr>\n",
       "  </tbody>\n",
       "</table>\n",
       "<p>1888 rows × 8 columns</p>\n",
       "</div>"
      ],
      "text/plain": [
       "     Mouse ID  Timepoint  Tumor Volume (mm3)  Metastatic Sites Drug Regimen  \\\n",
       "0        b128          0           45.000000                 0    Capomulin   \n",
       "1        b128          5           45.651331                 0    Capomulin   \n",
       "2        b128         10           43.270852                 0    Capomulin   \n",
       "3        b128         15           43.784893                 0    Capomulin   \n",
       "4        b128         20           42.731552                 0    Capomulin   \n",
       "...       ...        ...                 ...               ...          ...   \n",
       "1888     m601         25           33.118756                 1    Capomulin   \n",
       "1889     m601         30           31.758275                 1    Capomulin   \n",
       "1890     m601         35           30.834357                 1    Capomulin   \n",
       "1891     m601         40           31.378045                 1    Capomulin   \n",
       "1892     m601         45           28.430964                 1    Capomulin   \n",
       "\n",
       "         Sex  Age_months  Weight (g)  \n",
       "0     Female           9          22  \n",
       "1     Female           9          22  \n",
       "2     Female           9          22  \n",
       "3     Female           9          22  \n",
       "4     Female           9          22  \n",
       "...      ...         ...         ...  \n",
       "1888    Male          22          17  \n",
       "1889    Male          22          17  \n",
       "1890    Male          22          17  \n",
       "1891    Male          22          17  \n",
       "1892    Male          22          17  \n",
       "\n",
       "[1888 rows x 8 columns]"
      ]
     },
     "execution_count": 1,
     "metadata": {},
     "output_type": "execute_result"
    }
   ],
   "source": [
    "# Dependencies and Setup\n",
    "import matplotlib.pyplot as plt\n",
    "import pandas as pd\n",
    "import scipy.stats as st\n",
    "\n",
    "# Study data files\n",
    "mouse_metadata_path = \"data/Mouse_metadata.csv\"\n",
    "study_results_path = \"data/Study_results.csv\"\n",
    "\n",
    "# Read the mouse data and the study results\n",
    "mouse_metadata = pd.read_csv(mouse_metadata_path)\n",
    "study_results = pd.read_csv(study_results_path)\n",
    "\n",
    "# Combine the data into a single dataset\n",
    "mouse_merge = study_results.merge(mouse_metadata, left_on='Mouse ID', right_on='Mouse ID', how='outer')\n",
    "\n",
    "# Remove rows with duplicate Mouse ID and Timepoint \n",
    "mouse_results = mouse_merge.drop_duplicates(['Mouse ID', 'Timepoint'])\n",
    "\n",
    "# Display the data table for preview\n",
    "mouse_results"
   ]
  },
  {
   "cell_type": "markdown",
   "metadata": {},
   "source": [
    "## Summary Statistics"
   ]
  },
  {
   "cell_type": "code",
   "execution_count": 2,
   "metadata": {},
   "outputs": [
    {
     "data": {
      "text/html": [
       "<div>\n",
       "<style scoped>\n",
       "    .dataframe tbody tr th:only-of-type {\n",
       "        vertical-align: middle;\n",
       "    }\n",
       "\n",
       "    .dataframe tbody tr th {\n",
       "        vertical-align: top;\n",
       "    }\n",
       "\n",
       "    .dataframe thead th {\n",
       "        text-align: right;\n",
       "    }\n",
       "</style>\n",
       "<table border=\"1\" class=\"dataframe\">\n",
       "  <thead>\n",
       "    <tr style=\"text-align: right;\">\n",
       "      <th></th>\n",
       "      <th>Drug Regimen</th>\n",
       "      <th>Tumor Volume Mean</th>\n",
       "      <th>Tumor Volume Median</th>\n",
       "      <th>Tumor Volume Variance</th>\n",
       "      <th>Tumor Volume St Dev</th>\n",
       "      <th>Tumor Volume SEM</th>\n",
       "    </tr>\n",
       "  </thead>\n",
       "  <tbody>\n",
       "    <tr>\n",
       "      <th>0</th>\n",
       "      <td>Capomulin</td>\n",
       "      <td>40.675741</td>\n",
       "      <td>41.557809</td>\n",
       "      <td>24.947764</td>\n",
       "      <td>4.994774</td>\n",
       "      <td>0.329346</td>\n",
       "    </tr>\n",
       "    <tr>\n",
       "      <th>1</th>\n",
       "      <td>Ceftamin</td>\n",
       "      <td>52.591172</td>\n",
       "      <td>51.776157</td>\n",
       "      <td>39.290177</td>\n",
       "      <td>6.268188</td>\n",
       "      <td>0.469821</td>\n",
       "    </tr>\n",
       "    <tr>\n",
       "      <th>2</th>\n",
       "      <td>Infubinol</td>\n",
       "      <td>52.884795</td>\n",
       "      <td>51.820584</td>\n",
       "      <td>43.128684</td>\n",
       "      <td>6.567243</td>\n",
       "      <td>0.492236</td>\n",
       "    </tr>\n",
       "    <tr>\n",
       "      <th>3</th>\n",
       "      <td>Ketapril</td>\n",
       "      <td>55.235638</td>\n",
       "      <td>53.698743</td>\n",
       "      <td>68.553577</td>\n",
       "      <td>8.279709</td>\n",
       "      <td>0.603860</td>\n",
       "    </tr>\n",
       "    <tr>\n",
       "      <th>4</th>\n",
       "      <td>Naftisol</td>\n",
       "      <td>54.331565</td>\n",
       "      <td>52.509285</td>\n",
       "      <td>66.173479</td>\n",
       "      <td>8.134708</td>\n",
       "      <td>0.596466</td>\n",
       "    </tr>\n",
       "    <tr>\n",
       "      <th>5</th>\n",
       "      <td>Placebo</td>\n",
       "      <td>54.033581</td>\n",
       "      <td>52.288934</td>\n",
       "      <td>61.168083</td>\n",
       "      <td>7.821003</td>\n",
       "      <td>0.581331</td>\n",
       "    </tr>\n",
       "    <tr>\n",
       "      <th>6</th>\n",
       "      <td>Propriva</td>\n",
       "      <td>52.393463</td>\n",
       "      <td>50.909965</td>\n",
       "      <td>43.138803</td>\n",
       "      <td>6.568014</td>\n",
       "      <td>0.525862</td>\n",
       "    </tr>\n",
       "    <tr>\n",
       "      <th>7</th>\n",
       "      <td>Ramicane</td>\n",
       "      <td>40.216745</td>\n",
       "      <td>40.673236</td>\n",
       "      <td>23.486704</td>\n",
       "      <td>4.846308</td>\n",
       "      <td>0.320955</td>\n",
       "    </tr>\n",
       "    <tr>\n",
       "      <th>8</th>\n",
       "      <td>Stelasyn</td>\n",
       "      <td>54.233149</td>\n",
       "      <td>52.431737</td>\n",
       "      <td>59.450562</td>\n",
       "      <td>7.710419</td>\n",
       "      <td>0.573111</td>\n",
       "    </tr>\n",
       "    <tr>\n",
       "      <th>9</th>\n",
       "      <td>Zoniferol</td>\n",
       "      <td>53.236507</td>\n",
       "      <td>51.818479</td>\n",
       "      <td>48.533355</td>\n",
       "      <td>6.966589</td>\n",
       "      <td>0.516398</td>\n",
       "    </tr>\n",
       "  </tbody>\n",
       "</table>\n",
       "</div>"
      ],
      "text/plain": [
       "  Drug Regimen  Tumor Volume Mean  Tumor Volume Median  Tumor Volume Variance  \\\n",
       "0    Capomulin          40.675741            41.557809              24.947764   \n",
       "1     Ceftamin          52.591172            51.776157              39.290177   \n",
       "2    Infubinol          52.884795            51.820584              43.128684   \n",
       "3     Ketapril          55.235638            53.698743              68.553577   \n",
       "4     Naftisol          54.331565            52.509285              66.173479   \n",
       "5      Placebo          54.033581            52.288934              61.168083   \n",
       "6     Propriva          52.393463            50.909965              43.138803   \n",
       "7     Ramicane          40.216745            40.673236              23.486704   \n",
       "8     Stelasyn          54.233149            52.431737              59.450562   \n",
       "9    Zoniferol          53.236507            51.818479              48.533355   \n",
       "\n",
       "   Tumor Volume St Dev  Tumor Volume SEM  \n",
       "0             4.994774          0.329346  \n",
       "1             6.268188          0.469821  \n",
       "2             6.567243          0.492236  \n",
       "3             8.279709          0.603860  \n",
       "4             8.134708          0.596466  \n",
       "5             7.821003          0.581331  \n",
       "6             6.568014          0.525862  \n",
       "7             4.846308          0.320955  \n",
       "8             7.710419          0.573111  \n",
       "9             6.966589          0.516398  "
      ]
     },
     "execution_count": 2,
     "metadata": {},
     "output_type": "execute_result"
    }
   ],
   "source": [
    "# Generate a summary statistics table of mean, median, variance, standard deviation, and SEM of the tumor volume for each regimen\n",
    "mouse_regimen = mouse_results.groupby(mouse_results['Drug Regimen'])\n",
    "\n",
    "mean_tumor_df = mouse_regimen['Tumor Volume (mm3)'].mean()\n",
    "mean_tumor = mean_tumor_df.reset_index()['Tumor Volume (mm3)']\n",
    "\n",
    "median_tumor_df = mouse_regimen['Tumor Volume (mm3)'].median()\n",
    "median_tumor = median_tumor_df.reset_index()['Tumor Volume (mm3)']\n",
    "\n",
    "var_tumor_df = mouse_regimen['Tumor Volume (mm3)'].var()\n",
    "var_tumor = var_tumor_df.reset_index()['Tumor Volume (mm3)']\n",
    "\n",
    "std_tumor_df = mouse_regimen['Tumor Volume (mm3)'].std()\n",
    "std_tumor = std_tumor_df.reset_index()['Tumor Volume (mm3)']\n",
    "\n",
    "sem_tumor_df = mouse_regimen['Tumor Volume (mm3)'].sem()\n",
    "sem_tumor = sem_tumor_df.reset_index()['Tumor Volume (mm3)']\n",
    "\n",
    "drug_regimen_df = mouse_regimen.count()\n",
    "drug_regimen = drug_regimen_df.reset_index()['Drug Regimen']\n",
    "drug_regimen\n",
    "\n",
    "# This method produces everything in a single groupby function\n",
    "summary_statistics = pd.DataFrame({'Drug Regimen': drug_regimen, 'Tumor Volume Mean': mean_tumor, \n",
    "                                   'Tumor Volume Median': median_tumor, 'Tumor Volume Variance': var_tumor, \n",
    "                                   'Tumor Volume St Dev': std_tumor, 'Tumor Volume SEM': sem_tumor})\n",
    "summary_statistics"
   ]
  },
  {
   "cell_type": "markdown",
   "metadata": {},
   "source": [
    "## Bar and Pie Charts"
   ]
  },
  {
   "cell_type": "code",
   "execution_count": 3,
   "metadata": {},
   "outputs": [
    {
     "data": {
      "text/plain": [
       "Text(0, 0.5, 'Number of Data Points')"
      ]
     },
     "execution_count": 3,
     "metadata": {},
     "output_type": "execute_result"
    },
    {
     "data": {
      "image/png": "[encoded data removed]",
      "text/plain": [
       "<Figure size 432x288 with 1 Axes>"
      ]
     },
     "metadata": {
      "needs_background": "light"
     },
     "output_type": "display_data"
    }
   ],
   "source": [
    "# Generate a bar plot showing the total number of mice for each treatment throughout the course of the study using pandas. \n",
    "count_timepoints_df = mouse_regimen['Timepoint'].count()\n",
    "count_timepoints = count_timepoints_df.reset_index()['Timepoint']\n",
    "\n",
    "bar_plot_df = pd.DataFrame({'Drug Regimen': drug_regimen, 'Count Timepoints': count_timepoints})\n",
    "\n",
    "bar_plot_df.plot(kind='bar', x='Drug Regimen', y='Count Timepoints', legend=False).set_ylabel(\"Number of Data Points\")"
   ]
  },
  {
   "cell_type": "code",
   "execution_count": 4,
   "metadata": {},
   "outputs": [
    {
     "data": {
      "text/plain": [
       "Text(0, 0.5, 'Number of Data Points')"
      ]
     },
     "execution_count": 4,
     "metadata": {},
     "output_type": "execute_result"
    },
    {
     "data": {
      "image/png": "[encoded data removed]",
      "text/plain": [
       "<Figure size 432x288 with 1 Axes>"
      ]
     },
     "metadata": {
      "needs_background": "light"
     },
     "output_type": "display_data"
    }
   ],
   "source": [
    "# Generate a bar plot showing the total number of mice for each treatment throughout the course of the study using pyplot.\n",
    "\n",
    "plt.bar(drug_regimen, count_timepoints)\n",
    "plt.xticks(rotation=90)\n",
    "plt.ylabel(\"Number of Data Points\")"
   ]
  },
  {
   "cell_type": "code",
   "execution_count": 5,
   "metadata": {},
   "outputs": [
    {
     "data": {
      "text/plain": [
       "<matplotlib.axes._subplots.AxesSubplot at 0x250727f32c8>"
      ]
     },
     "execution_count": 5,
     "metadata": {},
     "output_type": "execute_result"
    },
    {
     "data": {
      "image/png": "[encoded data removed]",
      "text/plain": [
       "<Figure size 432x288 with 1 Axes>"
      ]
     },
     "metadata": {},
     "output_type": "display_data"
    }
   ],
   "source": [
    "# Generate a pie plot showing the distribution of female versus male mice using pandas\n",
    "mouse_gender_df = mouse_results.groupby(mouse_results['Sex']).count()\n",
    "mouse_gender = mouse_gender_df.reset_index()['Sex']\n",
    "mouse_gender\n",
    "\n",
    "gender_count_df = mouse_results.groupby(mouse_results['Sex']).nunique()\n",
    "del gender_count_df['Sex']\n",
    "gender_count = gender_count_df.reset_index()['Mouse ID']\n",
    "gender_count\n",
    "\n",
    "pie_plot_df = pd.DataFrame({'Gender': mouse_gender, 'Count': gender_count})\n",
    "\n",
    "# used partial code from this url: https://kontext.tech/column/code-snippets/402/pandas-dataframe-plot-pie-chart\n",
    "pie_plot_df.groupby('Gender').sum().plot(kind='pie', y='Count', legend=False, autopct='%1.1f%%')"
   ]
  },
  {
   "cell_type": "code",
   "execution_count": 6,
   "metadata": {},
   "outputs": [
    {
     "data": {
      "text/plain": [
       "([<matplotlib.patches.Wedge at 0x2507286f748>,\n",
       "  <matplotlib.patches.Wedge at 0x2507286fe48>],\n",
       " [Text(0.006939175976765795, 1.0999781124353174, 'Female'),\n",
       "  Text(-0.006939175976765929, -1.0999781124353174, 'Male')],\n",
       " [Text(0.0037850050782358875, 0.5999880613283548, '49.8%'),\n",
       "  Text(-0.003785005078235961, -0.5999880613283548, '50.2%')])"
      ]
     },
     "execution_count": 6,
     "metadata": {},
     "output_type": "execute_result"
    },
    {
     "data": {
      "image/png": "[encoded data removed]",
      "text/plain": [
       "<Figure size 432x288 with 1 Axes>"
      ]
     },
     "metadata": {},
     "output_type": "display_data"
    }
   ],
   "source": [
    "# Generate a pie plot showing the distribution of female versus male mice using pyplot\n",
    "plt.pie(pie_plot_df['Count'], labels=pie_plot_df['Gender'], autopct='%1.1f%%')"
   ]
  },
  {
   "cell_type": "markdown",
   "metadata": {},
   "source": [
    "## Quartiles, Outliers and Boxplots"
   ]
  },
  {
   "cell_type": "code",
   "execution_count": 7,
   "metadata": {},
   "outputs": [],
   "source": [
    "# Calculate the final tumor volume of each mouse across four of the treatment regimens:  \n",
    "# Capomulin, Ramicane, Infubinol, and Ceftamin\n",
    "\n",
    "# Start by getting the last (greatest) timepoint for each mouse\n",
    "last_time = pd.DataFrame({'Timepoint': mouse_results.groupby(['Mouse ID'])['Timepoint'].max()}).reset_index()\n",
    "\n",
    "# Merge this group df with the original dataframe to get the tumor volume at the last timepoint\n",
    "merge_df = last_time.merge(mouse_results, on=['Mouse ID', 'Timepoint'], how='inner')\n",
    "merge_df\n",
    "\n",
    "# used partial code from this url: \n",
    "# https://cmdlinetips.com/2018/02/how-to-subset-pandas-dataframe-based-on-values-of-a-column/#:~:text=One%20way%20to%20filter%20by,based%20on%20year's%20value%202002.\n",
    "is_capomulin = merge_df['Drug Regimen']=='Capomulin'\n",
    "capomulin_df = merge_df[is_capomulin]\n",
    "capomulin_df\n",
    "\n",
    "is_ramicane = merge_df['Drug Regimen']=='Ramicane'\n",
    "ramicane_df = merge_df[is_ramicane]\n",
    "ramicane_df\n",
    "\n",
    "is_infubinol = merge_df['Drug Regimen']=='Infubinol'\n",
    "infubinol_df = merge_df[is_infubinol]\n",
    "infubinol_df\n",
    "\n",
    "is_ceftamin = merge_df['Drug Regimen']=='Ceftamin'\n",
    "ceftamin_df = merge_df[is_ceftamin]\n",
    "ceftamin_df\n",
    "\n",
    "# Create lists to fill with tumor vol data (for plotting)\n",
    "capomulin_volume = capomulin_df['Tumor Volume (mm3)']\n",
    "\n",
    "ramicane_volume = ramicane_df['Tumor Volume (mm3)']\n",
    "\n",
    "infubinol_volume = infubinol_df['Tumor Volume (mm3)']\n",
    "\n",
    "ceftamin_volume = ceftamin_df['Tumor Volume (mm3)']"
   ]
  },
  {
   "cell_type": "code",
   "execution_count": 8,
   "metadata": {},
   "outputs": [
    {
     "name": "stdout",
     "output_type": "stream",
     "text": [
      "Capomulin:\n",
      "Lower quartile: 32.37735684\n",
      "Upper quartile: 40.1592203\n",
      "Interquartile range: 7.781863460000004\n",
      "Values < 20.70456164999999 could be outliers\n",
      "Values > 51.83201549 could be outliers\n",
      "Potential lower outliers: []\n",
      "Potential upper outliers: []\n",
      "-----------------------------------------------\n",
      "Ramicane:\n",
      "Lower quartile: 31.56046955\n",
      "Upper quartile: 40.65900627\n",
      "Interquartile range: 9.098536719999998\n",
      "Values < 17.912664470000003 could be outliers\n",
      "Values > 54.30681135 could be outliers\n",
      "Potential lower outliers: []\n",
      "Potential upper outliers: []\n",
      "-----------------------------------------------\n",
      "Infubinol:\n",
      "Lower quartile: 54.04860769\n",
      "Upper quartile: 65.52574285\n",
      "Interquartile range: 11.477135160000003\n",
      "Values < 36.83290494999999 could be outliers\n",
      "Values > 82.74144559000001 could be outliers\n",
      "Potential lower outliers: [36.321345799999996]\n",
      "Potential upper outliers: []\n",
      "-----------------------------------------------\n",
      "Ceftamin:\n",
      "Lower quartile: 48.72207785\n",
      "Upper quartile: 64.29983003\n",
      "Interquartile range: 15.577752179999997\n",
      "Values < 25.355449580000002 could be outliers\n",
      "Values > 87.66645829999999 could be outliers\n",
      "Potential lower outliers: []\n",
      "Potential upper outliers: []\n",
      "-----------------------------------------------\n"
     ]
    }
   ],
   "source": [
    "# Calculate the IQR and quantitatively determine if there are any potential outliers. \n",
    "\n",
    "# Capomuin data\n",
    "capomulin_quartiles = capomulin_volume.quantile([.25,.5,.75])\n",
    "lowerq = capomulin_quartiles[0.25]\n",
    "upperq = capomulin_quartiles[0.75]\n",
    "iqr = upperq-lowerq\n",
    "lower_bound = lowerq - (1.5*iqr)\n",
    "upper_bound = upperq + (1.5*iqr)\n",
    "\n",
    "print('Capomulin:')\n",
    "print(f'Lower quartile: {lowerq}')\n",
    "print(f'Upper quartile: {upperq}')\n",
    "print(f'Interquartile range: {iqr}')\n",
    "print(f'Values < {lower_bound} could be outliers')\n",
    "print(f'Values > {upper_bound} could be outliers')\n",
    "      \n",
    "is_outlier = capomulin_df['Tumor Volume (mm3)'] < lower_bound \n",
    "lower_outlier_df = capomulin_df[is_outlier]\n",
    "lower_outlier = lower_outlier_df['Tumor Volume (mm3)'].tolist()\n",
    "print(f'Potential lower outliers: {lower_outlier}')\n",
    "      \n",
    "is_outlier = capomulin_df['Tumor Volume (mm3)'] > upper_bound \n",
    "upper_outlier_df = capomulin_df[is_outlier]\n",
    "upper_outlier = upper_outlier_df['Tumor Volume (mm3)'].tolist()\n",
    "print(f'Potential upper outliers: {upper_outlier}')\n",
    "print('-----------------------------------------------')\n",
    "\n",
    "# Ramicane data\n",
    "ramicane_quartiles = ramicane_volume.quantile([.25,.5,.75])\n",
    "lowerq = ramicane_quartiles[0.25]\n",
    "upperq = ramicane_quartiles[0.75]\n",
    "iqr = upperq-lowerq\n",
    "lower_bound = lowerq - (1.5*iqr)\n",
    "upper_bound = upperq + (1.5*iqr)\n",
    "\n",
    "print('Ramicane:')\n",
    "print(f'Lower quartile: {lowerq}')\n",
    "print(f'Upper quartile: {upperq}')\n",
    "print(f'Interquartile range: {iqr}')\n",
    "print(f'Values < {lower_bound} could be outliers')\n",
    "print(f'Values > {upper_bound} could be outliers')\n",
    "      \n",
    "is_outlier = ramicane_df['Tumor Volume (mm3)'] < lower_bound \n",
    "lower_outlier_df = ramicane_df[is_outlier]\n",
    "lower_outlier = lower_outlier_df['Tumor Volume (mm3)'].tolist()\n",
    "print(f'Potential lower outliers: {lower_outlier}')\n",
    "      \n",
    "is_outlier = ramicane_df['Tumor Volume (mm3)'] > upper_bound \n",
    "upper_outlier_df = ramicane_df[is_outlier]\n",
    "upper_outlier = upper_outlier_df['Tumor Volume (mm3)'].tolist()\n",
    "print(f'Potential upper outliers: {upper_outlier}')\n",
    "print('-----------------------------------------------')\n",
    "\n",
    "# Infubinol data\n",
    "infubinol_quartiles = infubinol_volume.quantile([.25,.5,.75])\n",
    "lowerq = infubinol_quartiles[0.25]\n",
    "upperq = infubinol_quartiles[0.75]\n",
    "iqr = upperq-lowerq\n",
    "lower_bound = lowerq - (1.5*iqr)\n",
    "upper_bound = upperq + (1.5*iqr)\n",
    "\n",
    "print('Infubinol:')\n",
    "print(f'Lower quartile: {lowerq}')\n",
    "print(f'Upper quartile: {upperq}')\n",
    "print(f'Interquartile range: {iqr}')\n",
    "print(f'Values < {lower_bound} could be outliers')\n",
    "print(f'Values > {upper_bound} could be outliers')\n",
    "      \n",
    "is_outlier = infubinol_df['Tumor Volume (mm3)'] < lower_bound \n",
    "lower_outlier_df = infubinol_df[is_outlier]\n",
    "lower_outlier = lower_outlier_df['Tumor Volume (mm3)'].tolist()\n",
    "print(f'Potential lower outliers: {lower_outlier}')\n",
    "      \n",
    "is_outlier = infubinol_df['Tumor Volume (mm3)'] > upper_bound \n",
    "upper_outlier_df = infubinol_df[is_outlier]\n",
    "upper_outlier = upper_outlier_df['Tumor Volume (mm3)'].tolist()\n",
    "print(f'Potential upper outliers: {upper_outlier}')\n",
    "print('-----------------------------------------------')\n",
    "\n",
    "# Ceftamin data\n",
    "ceftamin_quartiles = ceftamin_volume.quantile([.25,.5,.75])\n",
    "lowerq = ceftamin_quartiles[0.25]\n",
    "upperq = ceftamin_quartiles[0.75]\n",
    "iqr = upperq-lowerq\n",
    "lower_bound = lowerq - (1.5*iqr)\n",
    "upper_bound = upperq + (1.5*iqr)\n",
    "\n",
    "print('Ceftamin:')\n",
    "print(f'Lower quartile: {lowerq}')\n",
    "print(f'Upper quartile: {upperq}')\n",
    "print(f'Interquartile range: {iqr}')\n",
    "print(f'Values < {lower_bound} could be outliers')\n",
    "print(f'Values > {upper_bound} could be outliers')\n",
    "      \n",
    "is_outlier = ceftamin_df['Tumor Volume (mm3)'] < lower_bound \n",
    "lower_outlier_df = ceftamin_df[is_outlier]\n",
    "lower_outlier = lower_outlier_df['Tumor Volume (mm3)'].tolist()\n",
    "print(f'Potential lower outliers: {lower_outlier}')\n",
    "      \n",
    "is_outlier = ceftamin_df['Tumor Volume (mm3)'] > upper_bound \n",
    "upper_outlier_df = ceftamin_df[is_outlier]\n",
    "upper_outlier = upper_outlier_df['Tumor Volume (mm3)'].tolist()\n",
    "print(f'Potential upper outliers: {upper_outlier}')\n",
    "print('-----------------------------------------------')"
   ]
  },
  {
   "cell_type": "code",
   "execution_count": 9,
   "metadata": {},
   "outputs": [
    {
     "data": {
      "text/plain": [
       "([<matplotlib.axis.XTick at 0x250728bb6c8>,\n",
       "  <matplotlib.axis.XTick at 0x250728b6d08>,\n",
       "  <matplotlib.axis.XTick at 0x250728b6708>,\n",
       "  <matplotlib.axis.XTick at 0x250728feb88>],\n",
       " <a list of 4 Text xticklabel objects>)"
      ]
     },
     "execution_count": 9,
     "metadata": {},
     "output_type": "execute_result"
    },
    {
     "data": {
      "image/png": "[encoded data removed]",
      "text/plain": [
       "<Figure size 432x288 with 1 Axes>"
      ]
     },
     "metadata": {
      "needs_background": "light"
     },
     "output_type": "display_data"
    }
   ],
   "source": [
    "# Generate a box plot of the final tumor volume of each mouse across four regimens of interest\n",
    "\n",
    "# Put treatments into a list for for loop (and later for plot labels)\n",
    "drug_list = ['Capomulin', 'Ramicane', 'Infubinol', 'Ceftamin']\n",
    "\n",
    "# used partial code from this url by user Parfait: \n",
    "# https://stackoverflow.com/questions/42004381/box-plot-of-a-many-pandas-dataframes\n",
    "\n",
    "capomulin_location = pd.DataFrame({'Drug Regimen': capomulin_df['Drug Regimen'], \n",
    "                                   'Tumor Volume (mm3)': capomulin_volume}).assign(Regimen=1)\n",
    "capomulin_location\n",
    "\n",
    "ramicane_location = pd.DataFrame({'Drug Regimen': ramicane_df['Drug Regimen'], \n",
    "                                   'Tumor Volume (mm3)': ramicane_volume}).assign(Regimen=2)\n",
    "ramicane_location\n",
    "\n",
    "infubinol_location = pd.DataFrame({'Drug Regimen': infubinol_df['Drug Regimen'], \n",
    "                                   'Tumor Volume (mm3)': infubinol_volume}).assign(Regimen=3)\n",
    "infubinol_location\n",
    "\n",
    "ceftamin_location = pd.DataFrame({'Drug Regimen': ceftamin_df['Drug Regimen'], \n",
    "                                   'Tumor Volume (mm3)': ceftamin_volume}).assign(Regimen=4)\n",
    "ceftamin_location\n",
    "\n",
    "cdf = pd.concat([capomulin_location, ramicane_location, infubinol_location, ceftamin_location])\n",
    "cdf\n",
    "\n",
    "green_diamond = dict(markerfacecolor='g', marker='D')\n",
    "\n",
    "cdf.boxplot(by='Regimen', flierprops=green_diamond)    \n",
    "plt.xticks([1, 2, 3, 4], ['Capomulin', 'Ramicane', 'Infubinol', 'Ceftamin'])"
   ]
  },
  {
   "cell_type": "markdown",
   "metadata": {},
   "source": [
    "## Line and Scatter Plots"
   ]
  },
  {
   "cell_type": "code",
   "execution_count": null,
   "metadata": {},
   "outputs": [],
   "source": [
    "# Generate a line plot of time point versus tumor volume for a mouse treated with Capomulin\n"
   ]
  },
  {
   "cell_type": "code",
   "execution_count": null,
   "metadata": {},
   "outputs": [],
   "source": [
    "# Generate a scatter plot of mouse weight versus average tumor volume for the Capomulin regimen\n"
   ]
  },
  {
   "cell_type": "markdown",
   "metadata": {},
   "source": [
    "## Correlation and Regression"
   ]
  },
  {
   "cell_type": "code",
   "execution_count": null,
   "metadata": {},
   "outputs": [],
   "source": [
    "# Calculate the correlation coefficient and linear regression model \n",
    "# for mouse weight and average tumor volume for the Capomulin regimen\n"
   ]
  },
  {
   "cell_type": "code",
   "execution_count": null,
   "metadata": {},
   "outputs": [],
   "source": []
  }
 ],
 "metadata": {
  "anaconda-cloud": {},
  "kernelspec": {
   "display_name": "Python 3",
   "language": "python",
   "name": "python3"
  },
  "language_info": {
   "codemirror_mode": {
    "name": "ipython",
    "version": 3
   },
   "file_extension": ".py",
   "mimetype": "text/x-python",
   "name": "python",
   "nbconvert_exporter": "python",
   "pygments_lexer": "ipython3",
   "version": "3.7.6"
  }
 },
 "nbformat": 4,
 "nbformat_minor": 2
}
